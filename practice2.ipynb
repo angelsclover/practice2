{
 "cells": [
  {
   "cell_type": "markdown",
   "id": "5bbeb804",
   "metadata": {},
   "source": [
    "### 실습과제2-1. 대소문자 변환"
   ]
  },
  {
   "cell_type": "markdown",
   "id": "977d5c87",
   "metadata": {},
   "source": [
    "```python\n",
    "n= input(\"문자열 입력:\")\n",
    "```"
   ]
  },
  {
   "cell_type": "markdown",
   "id": "1f94b99d",
   "metadata": {},
   "source": [
    "##### 문자열을 입력받는다."
   ]
  },
  {
   "cell_type": "markdown",
   "id": "4a87c772",
   "metadata": {},
   "source": [
    "```python\n",
    "eng=\"\"\n",
    "for i in n:\n",
    "    if ord(i)>96:\n",
    "        eng += i.upper()\n",
    "    else:\n",
    "        eng += i.lower()\n",
    "print(eng)\n",
    "```"
   ]
  },
  {
   "cell_type": "markdown",
   "id": "9f30253b",
   "metadata": {},
   "source": [
    "###### ord 함수와 upper,lower 함수를 이용해 대문자는 소문자로, 소문자는 대문자로 변환하여 문자열을 출력한다."
   ]
  },
  {
   "cell_type": "markdown",
   "id": "5ad00622",
   "metadata": {},
   "source": [
    "### 2-2.문자열에서 알파벳 개수 확인"
   ]
  },
  {
   "cell_type": "markdown",
   "id": "0ca7b164",
   "metadata": {},
   "source": [
    "```python\n",
    "def solution(n):\n",
    "    str1 = [0 for _ in range(26)]\n",
    "    str2 = [0 for _ in range(26)]\n",
    "```"
   ]
  },
  {
   "cell_type": "markdown",
   "id": "5b56d454",
   "metadata": {},
   "source": [
    "###### 대문자와 소문자의 개수를 확인할 정수 리스트를 만든다."
   ]
  },
  {
   "cell_type": "markdown",
   "id": "2ac4f59d",
   "metadata": {},
   "source": [
    "```python\n",
    "    for i in list(n):\n",
    "        if 65<=ord(i)<91:\n",
    "            str1[ord(i)-65] += 1\n",
    "        elif 97<=ord(i)<123:\n",
    "            str2[ord(i)-97] += 1\n",
    "    return str1+str2\n",
    "```"
   ]
  },
  {
   "cell_type": "markdown",
   "id": "93606e45",
   "metadata": {},
   "source": [
    "###### ord함수를 이용해 대문자와 소문자를 각각 확인하여 리스트에 더하는 solution 함수를 완성한다."
   ]
  },
  {
   "cell_type": "markdown",
   "id": "21e48828",
   "metadata": {},
   "source": [
    "```python\n",
    "str_ = input(\"문자열 입력:\")\n",
    "print(solution(str_))\n",
    "```"
   ]
  },
  {
   "cell_type": "markdown",
   "id": "d2f6942f",
   "metadata": {},
   "source": [
    "###### 문자열을 입력받고, 그 문자열에 들어간 대문자와 소문자의 개수가 담긴 리스트를 출력한다."
   ]
  },
  {
   "cell_type": "markdown",
   "id": "7b90066a",
   "metadata": {},
   "source": [
    "### 2-3.주사위 게임 만들기"
   ]
  },
  {
   "cell_type": "markdown",
   "id": "18904590",
   "metadata": {},
   "source": [
    "```python\n",
    "import random\n",
    "import time\n",
    "```"
   ]
  },
  {
   "cell_type": "markdown",
   "id": "2f3d2709",
   "metadata": {},
   "source": [
    "###### 주사위 게임을 위한 random 모듈과, 시간차를 두어 결과를 출력하기 위한 time 모듈을 가져온다."
   ]
  },
  {
   "cell_type": "markdown",
   "id": "173af658",
   "metadata": {},
   "source": [
    "```python\n",
    "p1='player1'\n",
    "p2='player2'\n",
    "d1,d2=random.randint(1,6),random.randint(1,6)\n",
    "\n",
    "print(f'player1: {d1}')\n",
    "time.sleep(3)\n",
    "print(f'player2: {d2}')\n",
    "```"
   ]
  },
  {
   "cell_type": "markdown",
   "id": "ed6d9fea",
   "metadata": {},
   "source": [
    "###### 두 명의 플레이어가 얻은 육면체 주사위의 값을 확인한다. 이때 time 모듈의 sleep 함수를 이용해 시간차를 두어 결과를 출력하게 한다."
   ]
  },
  {
   "cell_type": "markdown",
   "id": "4043494c",
   "metadata": {},
   "source": [
    "```python\n",
    "if d1>d2:   \n",
    "    print('player1 승리')\n",
    "elif d1==d2:\n",
    "    print('무승부')\n",
    "else:\n",
    "    print('player2 승리')\n",
    "```"
   ]
  },
  {
   "cell_type": "markdown",
   "id": "4844b0f2",
   "metadata": {},
   "source": [
    "###### 게임의 결과를 출력한다."
   ]
  }
 ],
 "metadata": {
  "kernelspec": {
   "display_name": "Python 3 (ipykernel)",
   "language": "python",
   "name": "python3"
  },
  "language_info": {
   "codemirror_mode": {
    "name": "ipython",
    "version": 3
   },
   "file_extension": ".py",
   "mimetype": "text/x-python",
   "name": "python",
   "nbconvert_exporter": "python",
   "pygments_lexer": "ipython3",
   "version": "3.9.12"
  }
 },
 "nbformat": 4,
 "nbformat_minor": 5
}
